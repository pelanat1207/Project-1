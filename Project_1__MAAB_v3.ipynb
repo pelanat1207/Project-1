{
  "nbformat": 4,
  "nbformat_minor": 0,
  "metadata": {
    "colab": {
      "name": "Project_1:_MAAB v3.ipynb",
      "provenance": [],
      "collapsed_sections": [],
      "toc_visible": true,
      "authorship_tag": "ABX9TyMEVkRqNhr2GO11Cx3Lhk4j",
      "include_colab_link": true
    },
    "kernelspec": {
      "name": "python3",
      "display_name": "Python 3"
    }
  },
  "cells": [
    {
      "cell_type": "markdown",
      "metadata": {
        "id": "view-in-github",
        "colab_type": "text"
      },
      "source": [
        "<a href=\"https://colab.research.google.com/github/pelanat1207/Project-1/blob/master/Project_1__MAAB_v3.ipynb\" target=\"_parent\"><img src=\"https://colab.research.google.com/assets/colab-badge.svg\" alt=\"Open In Colab\"/></a>"
      ]
    },
    {
      "cell_type": "markdown",
      "metadata": {
        "id": "N3gI-LFLHLL0",
        "colab_type": "text"
      },
      "source": [
        "<img src=\"https://img.icons8.com/ios/50/000000/cottage--v1.png\"/>\n",
        "\n",
        "#**MAAB-Israel: Management Application of  Apartments' Buildings in Israel** \n",
        "\n",
        "\n",
        "---\n",
        "\n",
        "**Anat Peled \\ July 2020 \\ NAYA College**\n"
      ]
    },
    {
      "cell_type": "code",
      "metadata": {
        "id": "C0pKankAVEGr",
        "colab_type": "code",
        "colab": {}
      },
      "source": [
        "import re\n",
        "from collections import defaultdict\n",
        "import itertools\n",
        "from datetime import datetime, timedelta              \n",
        "from decimal import Decimal\n",
        "import smtplib, ssl\n",
        "import getpass as gp\n",
        "from email.mime.text import MIMEText\n",
        "from email.mime.multipart import MIMEMultipart"
      ],
      "execution_count": null,
      "outputs": []
    },
    {
      "cell_type": "markdown",
      "metadata": {
        "id": "lirkS_pSHr_Y",
        "colab_type": "text"
      },
      "source": [
        "## **Background**\n",
        "\n",
        "This application was made in order to ease the managment of an apartments building in Israel. The main user of this application should be the building committee or a proffesional buildings' managment company. The main purpose of this application is to keep transparency of the expenses and the building's account stauts at all time to all apartmens' owners.\n",
        "\n",
        "[github link](https://github.com/pelanat1207/Project-1)"
      ]
    },
    {
      "cell_type": "markdown",
      "metadata": {
        "id": "zyl2RN0PSKbz",
        "colab_type": "text"
      },
      "source": [
        "##**Components**\n",
        "The application is made of three classes (Owner, Apartment, Building). Classes are associated to each other as explained later. Reports are available both as screen output and e-mail. \n"
      ]
    },
    {
      "cell_type": "markdown",
      "metadata": {
        "id": "EqsdVaJxatpg",
        "colab_type": "text"
      },
      "source": [
        "#**E-mailing with Python**\n",
        "---\n",
        "\n",
        "In order to send the reports by e-mail, I established a new gmail account: MAABIsrael1@gmail.com. I used the smtplib, ssl, email.MIME and getpass for the purpose of connection establishment and secured password input.\n",
        "\n",
        "There are 3 functions that enable the reports mailing:\n",
        "1. **send_report_by_mail():** Organize the e-mail structure both in plain text and HTML and sends a secure e-mail\n",
        "2. **convert_to_comma_file():** Converts a plain text table to a comma text file\n",
        "3. **create_HTML_table():** Converts a text file to an HTML table\n",
        "\n",
        "The **send_HTML_report()**, the 4th function, combines all of the above functions. This is the function to be used on a report.\n",
        "\n",
        "\n",
        "For further reading see:\n",
        "* [Real Python - Sending Emails With Python](https://realpython.com/python-send-email/#option-1-setting-up-a-gmail-account-for-development).\n",
        "* [VIDIGEST: Generating An HTML Table Using PYTHON 3](https://vidigest.com/2018/12/02/generating-an-html-table-from-file-data-using-python-3/)"
      ]
    },
    {
      "cell_type": "code",
      "metadata": {
        "id": "pnrKhXA1ceEA",
        "colab_type": "code",
        "colab": {}
      },
      "source": [
        "def send_report_by_mail (report_name, receiver_email, receiver_name, content):\n",
        "\n",
        "    sender_email = \"MAABisrael1@gmail.com\"\n",
        "    message = MIMEMultipart(\"alternative\")\n",
        "    message[\"Subject\"] = report_name\n",
        "    message[\"From\"] = sender_email\n",
        "    message[\"To\"] = receiver_email\n",
        "    password = gp.getpass(\"Type your password and press enter: \")\n",
        "\n",
        "    # Create the plain-text and HTML version of your message\n",
        "    text = f'{content}'\n",
        "    html = \"\"\"\\\n",
        "    <html> \n",
        "    <p> Dear {0}, </p> \n",
        "    <head> <style> \n",
        "          table, th, td {{ border: 1px solid black; border-collapse: collapse; }}\n",
        "          th, td {{ padding: 5px; }}\n",
        "    </style> </head> \n",
        "    <body> <p> {1} </p> </body>\n",
        "    </html>\n",
        "    \"\"\".format(receiver_name, content)\n",
        "\n",
        "    # Turn these into plain/html MIMEText objects\n",
        "    part1 = MIMEText(text, \"plain\")\n",
        "    part2 = MIMEText(html, \"html\")\n",
        "\n",
        "    # Add HTML/plain-text parts to MIMEMultipart message\n",
        "    # The email client will try to render the last part first\n",
        "    message.attach(part1)\n",
        "    message.attach(part2)\n",
        "\n",
        "    # Create secure connection with server and send email\n",
        "    context = ssl.create_default_context()\n",
        "    with smtplib.SMTP_SSL(\"smtp.gmail.com\", 465, context=context) as server:\n",
        "        server.login(sender_email, password)\n",
        "        server.sendmail(\n",
        "            sender_email, receiver_email, message.as_string()\n",
        "        )\n",
        "\n",
        "# Since ASCII plain text tables are not displayed well in HTML, we must convert it to a comma file\n",
        "# which in turm will be converted to HTML table. \n",
        "\n",
        "def convert_to_comma_file(text):\n",
        "  # This methos takes a multiline string and convert it to a myfile.txt file wilth lines seperated by commas:\n",
        "    text_file = open(\"myfile.txt\", \"w\")\n",
        "    my_str = ''\n",
        "    for line in text.split('\\n'):\n",
        "      a = line.strip()\n",
        "      if len(a) == a.count('-'):\n",
        "          a = a.replace('-','')\n",
        "      else:\n",
        "          a = a.replace('|',',').strip()\n",
        "      if len(a) != 0:\n",
        "          my_str = my_str + a + '\\n'     \n",
        "    text_file.write(my_str)\n",
        "    text_file.close()\n",
        "\n",
        "def create_HTML_table(input_file_name):\n",
        "    # This function is taken from: https://vidigest.com/2018/12/02/generating-an-html-table-from-file-data-using-python-3/\n",
        "    # The script requires 1 argument: the input file name.\n",
        "    # It expects a comma-separated input file to parse into an html table,\n",
        "    # and assumes that the column headers are located in the first row.\n",
        "\n",
        "    filein = open(input_file_name, \"r\")\n",
        "    fileout = open(\"html_table.html\", \"w\")\n",
        "    data = filein.readlines()\n",
        "    table = \"<table>\\n\"\n",
        "\n",
        "    # Create the table's column headers\n",
        "    header = data[0].split(\",\")\n",
        "    table += \"  <tr>\\n\"\n",
        "    for column in header:\n",
        "        table += \"    <th> {0} </th>\\n\".format(column.strip())\n",
        "    table += \"  </tr>\\n\"\n",
        "\n",
        "    # Create the table's row data\n",
        "    for line in data[1:]:\n",
        "        row = line.split(\",\")\n",
        "        table += \"  <tr>\\n\"\n",
        "        for column in row:\n",
        "            table += \"    <td> {0} </td>\\n\".format(column.strip())\n",
        "        table += \"  </tr>\\n\"\n",
        "    table += \"</table>\"\n",
        "    fileout.writelines(table)\n",
        "    fileout.close()\n",
        "    filein.close\n",
        "\n",
        "def send_HTML_report(func, receiver_email, receiver_name, report_name):\n",
        "  convert_to_comma_file(func)\n",
        "  create_HTML_table(\"myfile.txt\")\n",
        "  with open('html_table.html', 'r') as a:\n",
        "    file = a.read()\n",
        "    send_report_by_mail (report_name, receiver_email, receiver_name, file)"
      ],
      "execution_count": null,
      "outputs": []
    },
    {
      "cell_type": "markdown",
      "metadata": {
        "id": "6t3rDutDS6XH",
        "colab_type": "text"
      },
      "source": [
        "#**Class Owner**\n",
        "----\n",
        "\n",
        "This class contains the data of the aparment's owners. It maintains the contact information of the owners: ID, name, mail & phone number.\n",
        "The class functions are: __ new __ (), __ init __ (), __ str__(), remove_owner(), update_phone(), update_email() and valid_mail().\n",
        "It has one stand-alone report for all the documented owners in the class."
      ]
    },
    {
      "cell_type": "markdown",
      "metadata": {
        "id": "XJ8lAL8usvYi",
        "colab_type": "text"
      },
      "source": [
        "##**Instantiation & Basic Functions**\n",
        "\n"
      ]
    },
    {
      "cell_type": "code",
      "metadata": {
        "id": "kRO6G4JFG86f",
        "colab_type": "code",
        "colab": {}
      },
      "source": [
        "class Owner():\n",
        "\n",
        "  owner_dict = defaultdict(list)\n",
        "\n",
        "  def __new__ (cls, id, name, phone, mail):\n",
        "     \"\"\"\n",
        "     The __new__ method is similar to the __init__ method, but if both exist, __new__ method executes first.\n",
        "     the __new__ method checks if ID already exist in owners list and prevent duplicates.\n",
        "     \"\"\"\n",
        "     if id not in Owner.owner_dict.keys():\n",
        "         return object.__new__(cls)\n",
        "     else:\n",
        "         print(f'ID {id} already exists!')\n",
        "         return None\n",
        "\n",
        "  def __init__ (self, id, name, phone, mail):\n",
        "      self.id = str(id)\n",
        "      self.name = str(name)\n",
        "      self.phone = str(phone)\n",
        "      if Owner.valid_mail(self, mail):\n",
        "         self.mail = str(mail)\n",
        "      else:\n",
        "         self.mail = ''\n",
        "         print(\"Invalid email address. e-mail set to blank!\")\n",
        "      Owner.owner_dict[id] = [self.name, self.phone, self.mail]\n",
        "         \n",
        "  def __str__ (self):\n",
        "      try:\n",
        "        owners_string = ''\n",
        "        header = '{:10}|{:15}|{:^12}|{:20}\\n'.format('ID','Name','Phone','e-mail')\n",
        "        line = '-'*len(header)+'\\n'\n",
        "        person_line = '{:10}|{:15}|{:^12}|{:20}\\n'.format(self.id, self.name, self.phone, self.mail)\n",
        "        return (header+line+person_line)\n",
        "      except:\n",
        "        return 'No Occurance'\n",
        "  \n",
        "  def remove_owner (self):  \n",
        "      Owner.owner_dict.pop(self.id, 'No Occurance')\n",
        "      self.id = None\n",
        "      self.name = None\n",
        "      self.phone = None\n",
        "      self.mail = None\n",
        "\n",
        "  def update_phone(self, new_phone):\n",
        "      self.phone = new_phone\n",
        "  \n",
        "  def valid_mail(self, mail_address):\n",
        "      pattern = re.compile(r\"^[a-zA-Z0-9_.+-]+@[a-zA-Z0-9-]+\\.[a-zA-Z0-9-.]+$\")\n",
        "      valid = pattern.match(mail_address)\n",
        "      return valid\n",
        "\n",
        "  def update_email(self, new_email):\n",
        "      if Owner.valid_mail(self, new_email):\n",
        "          self.mail = new_email\n",
        "          Owner.owner_dict[self.id][2] = new_email\n",
        "      else:\n",
        "          self.mail = ''\n",
        "          print(\"Email update failed due to invalid email address. e-mail set to blank!\")"
      ],
      "execution_count": null,
      "outputs": []
    },
    {
      "cell_type": "markdown",
      "metadata": {
        "id": "zOGKLOkJs9J3",
        "colab_type": "text"
      },
      "source": [
        "##**Demonstration**"
      ]
    },
    {
      "cell_type": "code",
      "metadata": {
        "id": "fhj8xudrGtDD",
        "colab_type": "code",
        "colab": {
          "base_uri": "https://localhost:8080/",
          "height": 35
        },
        "outputId": "17729d49-4309-42ea-ad67-97f6eb437bcc"
      },
      "source": [
        "# Creating 3 instances (owner3 is expected to fail)\n",
        "owner1 = Owner('067983451','Anat Peled', '0543332345', 'anat@gmail.com')\n",
        "owner2 = Owner('012345678', 'Carmit Assael', '0506236751', 'cmassael@gmail.com')\n",
        "owner3 = Owner('012345678', 'Anonimus', '3333333', 'NoWay@gmail.co.il')"
      ],
      "execution_count": null,
      "outputs": [
        {
          "output_type": "stream",
          "text": [
            "ID 012345678 already exists!\n"
          ],
          "name": "stdout"
        }
      ]
    },
    {
      "cell_type": "code",
      "metadata": {
        "id": "sciT1ICOcFcp",
        "colab_type": "code",
        "colab": {
          "base_uri": "https://localhost:8080/",
          "height": 104
        },
        "outputId": "7d4725b6-f4fb-4b92-84a8-727c4207e252"
      },
      "source": [
        "# Print an instance and number of instances in class\n",
        "print(owner1)\n",
        "print('Owners list contains', len(Owner.owner_dict), 'owners')"
      ],
      "execution_count": null,
      "outputs": [
        {
          "output_type": "stream",
          "text": [
            "ID        |Name           |   Phone    |e-mail              \n",
            "-------------------------------------------------------------\n",
            "067983451 |Anat Peled     | 0543332345 |anat@gmail.com      \n",
            "\n",
            "Owners list contains 2 owners\n"
          ],
          "name": "stdout"
        }
      ]
    },
    {
      "cell_type": "code",
      "metadata": {
        "id": "WB-bM6GbcOnw",
        "colab_type": "code",
        "colab": {}
      },
      "source": [
        "# Creating a third instance\n",
        "owner3 = Owner('012345679', 'Anonimus', '3333333', 'NoWay@gmail.co.il')"
      ],
      "execution_count": null,
      "outputs": []
    },
    {
      "cell_type": "code",
      "metadata": {
        "id": "F1SFpuBTWbPl",
        "colab_type": "code",
        "colab": {
          "base_uri": "https://localhost:8080/",
          "height": 87
        },
        "outputId": "88955251-c497-42aa-f1c8-d0b06f9a554a"
      },
      "source": [
        "# Update email to owner1 and print it\n",
        "owner1.update_email('pelanat1207@gmail.com')\n",
        "print(owner1)"
      ],
      "execution_count": null,
      "outputs": [
        {
          "output_type": "stream",
          "text": [
            "ID        |Name           |   Phone    |e-mail              \n",
            "-------------------------------------------------------------\n",
            "067983451 |Anat Peled     | 0543332345 |pelanat1207@gmail.com\n",
            "\n"
          ],
          "name": "stdout"
        }
      ]
    },
    {
      "cell_type": "code",
      "metadata": {
        "id": "1mirD4ptZsZ6",
        "colab_type": "code",
        "colab": {
          "base_uri": "https://localhost:8080/",
          "height": 52
        },
        "outputId": "89e3e628-15c2-4137-a7bd-addfe220cf0a"
      },
      "source": [
        "# remove an instance from the list and verify it was removed\n",
        "owner3.remove_owner()\n",
        "print(owner3)\n",
        "print('Owners list contains', len(Owner.owner_dict), 'owners')"
      ],
      "execution_count": null,
      "outputs": [
        {
          "output_type": "stream",
          "text": [
            "No Occurance\n",
            "Owners list contains 2 owners\n"
          ],
          "name": "stdout"
        }
      ]
    },
    {
      "cell_type": "markdown",
      "metadata": {
        "id": "TyIGbzhbF4xM",
        "colab_type": "text"
      },
      "source": [
        "##**Report 1: Owners Contact List**"
      ]
    },
    {
      "cell_type": "code",
      "metadata": {
        "id": "gwpeVUWAVSYM",
        "colab_type": "code",
        "colab": {}
      },
      "source": [
        "def PrintContactList():\n",
        "  #Report 1: A table of all owners (even if no aprtment is linked)\n",
        "  owners_string = ''\n",
        "  header = '{:10}|{:15}|{:^12}|{:20}\\n'.format('ID','Name','Phone','e-mail')\n",
        "  line = '-'*len(header)+'\\n'\n",
        "  for owner in Owner.owner_dict.items():\n",
        "          person_line = '{:10}|{:15}|{:^12}|{:20}\\n'.format(owner[0], owner[1][0], owner[1][1], owner[1][2])\n",
        "          owners_string += person_line\n",
        "  return header + line + owners_string"
      ],
      "execution_count": null,
      "outputs": []
    },
    {
      "cell_type": "code",
      "metadata": {
        "id": "ftKgj7gJ-n5B",
        "colab_type": "code",
        "colab": {
          "base_uri": "https://localhost:8080/",
          "height": 121
        },
        "outputId": "543a3f44-f098-46e3-e796-5d1904788b97"
      },
      "source": [
        "print(PrintContactList())\n",
        "send_HTML_report(PrintContactList(),'pelanat1207@gmail.com','Anat','Owners List')"
      ],
      "execution_count": null,
      "outputs": [
        {
          "output_type": "stream",
          "text": [
            "ID        |Name           |   Phone    |e-mail              \n",
            "-------------------------------------------------------------\n",
            "067983451 |Anat Peled     | 0543332345 |pelanat1207@gmail.com\n",
            "012345678 |Carmit Assael  | 0506236751 |cmassael@gmail.com  \n",
            "\n",
            "Type your password and press enter: ··········\n"
          ],
          "name": "stdout"
        }
      ]
    },
    {
      "cell_type": "markdown",
      "metadata": {
        "id": "JGuCv3lih3dT",
        "colab_type": "text"
      },
      "source": [
        "#**Class Apartment**\n",
        "\n",
        "This class associates to **both** the Building & Owner classes. Association has 2 forms:\n",
        "> *Aggregation*: this represents a *'has-a'* relationship. In both, the entries can survive individually which means ending one Object will not effect the other Object. Therefore we can say that the owner and apartment class are aggregated, since each of them can exists without the other.\n",
        "\n",
        "> *Composition*: this is a restricted form of aggregation in which two classes are highly dependent on each other. We can say a building is composed of one or more apartments and therefore the classes are composed of each other. \n",
        "\n",
        "The instances of this class are formed **during** the instantination of a building. \n",
        "\n",
        "The default attributes of the Apartment class are: apartment number, ratio, monthly fee and owner. Each instance has its own payments dictionary to record all payments per year.\n",
        "\n",
        "The functions of this class are: __init__ (), __str__ (), add_owner(), del_owner(), init_payments_dict(), apartment_yearly_balance() and get_payment()."
      ]
    },
    {
      "cell_type": "markdown",
      "metadata": {
        "id": "HJHaKplBL4Kl",
        "colab_type": "text"
      },
      "source": [
        "##**Instantiation  & Basic Functions**\n",
        "\n",
        "> *Tip: This code must be executed but **not** tested prior to the Building class*"
      ]
    },
    {
      "cell_type": "code",
      "metadata": {
        "id": "jaOxV2f5jApW",
        "colab_type": "code",
        "colab": {}
      },
      "source": [
        "class Apartment():\n",
        "\n",
        "  def __init__(self, build, num):\n",
        "    self.num = f'{build:^6}/{num:>2}'\n",
        "    self.owner = ''\n",
        "    self.owner_name = ''\n",
        "    self.ratio = float(1/ Building.build_db[build][3]) # = app_num (number of apartments)\n",
        "    self.a_monthly_fee = round(float(Building.build_db[build][4] * self.ratio))\n",
        "    self.a_balance = round(self.a_monthly_fee * (12 - datetime.now().month))\n",
        "    self.payments_dict = defaultdict(list)\n",
        "    self.init_payments_dict(datetime.now().year)\n",
        "\n",
        "  def __str__(self):\n",
        "    apartment_string = ''\n",
        "    header = '{:9}|{:^6}|{:^8}|{:15}|{:^9}\\n'.format('# Apart', 'Ratio', 'M. Fee', 'Owner Name', 'Balance')\n",
        "    line = '-'*len(header)+'\\n'\n",
        "    apartment_line = '{:^9}|{:^6.1%}|{:^8}|{:15}|{:^9}\\n'.format(self.num, self.ratio, self.a_monthly_fee, self.owner_name, self.a_balance)\n",
        "    return (header+line+apartment_line)\n",
        "  \n",
        "  def add_owner(self, owner):\n",
        "    # Match an owner from owners list to an apartment (only ID and name)\n",
        "    self.owner = owner\n",
        "    self.owner_name = Owner.owner_dict[owner][0]\n",
        "  \n",
        "  def del_owner(self):\n",
        "    # delets the owner from the apartment attribute, not from the owners list!\n",
        "    self.owner = None\n",
        "    self.owner_name = None\n",
        "  \n",
        "  def init_payments_dict(self, year):\n",
        "    self.payments_dict[year] = [self.ratio, self.a_monthly_fee, self.a_balance, 0]\n",
        "\n",
        "  def apartment_yearly_balance(self, year):\n",
        "    self.a_balance = round(self.a_monthly_fee * 12 - self.payments_dict[year][3])\n",
        "    self.payments_dict[year][2] = self.a_balance\n",
        "\n",
        "  \n",
        "  def get_payment(self, year):\n",
        "    global payments_dict\n",
        "    payment = int(input(\"Enter the sum of payment recieved: \"))\n",
        "    self.payments_dict[year][3] += payment\n",
        "    self.apartment_yearly_balance(year)\n",
        "    ## Send a reciept to owner mail???"
      ],
      "execution_count": null,
      "outputs": []
    },
    {
      "cell_type": "markdown",
      "metadata": {
        "id": "rNbwGIcKFhkS",
        "colab_type": "text"
      },
      "source": [
        "# **Class Building**\n",
        "---\n"
      ]
    },
    {
      "cell_type": "markdown",
      "metadata": {
        "id": "CBQFeKfFSylG",
        "colab_type": "text"
      },
      "source": [
        "Each building is made of apartments. In order to \"build\" a building, you need to define the address, city and the number of apartments.\n",
        "While creating a building, it is checked for being uniqe with __ new __ () method. \n",
        "Each building is given an ID number for further identification."
      ]
    },
    {
      "cell_type": "markdown",
      "metadata": {
        "id": "qzuLKvH5Id8o",
        "colab_type": "text"
      },
      "source": [
        "## **In: Building's Fees**\n",
        "\n",
        "The fee of each apartment is calculated as the monthly fee required by the building, multiplied by the **Apartment.ratio** attribute. \n",
        "\n",
        "The mechanism to establish the fee of an apartment in a buiding can be calculated in one of two possible methods:\n",
        "1. **Linear Fees (Default):** All apartments pay the same fees, regrdless of the area or unique features of an apartment. In this case, the ratio should be 1 divided by number of apartments in the building.\n",
        "2. **Relative Fees:** the area of the appartment divided by the total area of all apartments (excl. parking, roof, warehouse etc..). Therfore bigger apartments will pay higher fees, and vice versa. \n",
        "In this case, the ratio should be the area of the apartment divided by the sum of areas of all apartments. \n",
        "\n",
        "In order to change the default ratio to a new one you should use the *Change_Ratio()* method. \n",
        "\n",
        "> **Tip:** The ratio attribute is year-specific. Therefore, ideally, you may change the ratio at the beginning of the year or right after setting the building yearly expenses."
      ]
    },
    {
      "cell_type": "markdown",
      "metadata": {
        "id": "q1QZwn8iPKVi",
        "colab_type": "text"
      },
      "source": [
        "## **Out: Building's Expenses**\n",
        "\n",
        "There are some fixed kinds of expenses in a building. As a deafault we set in advence the most common expenditures sections, but the user has the ability to add additional expenditure sections as desired.\n",
        "\n",
        "The pre-programed expenditure sections are: Cleaning, Elevator, Electricity, Gardening and Insurance. \n",
        "\n",
        "Each payment to a supplier should be documented with the update_yearly_costs(), and is related to a specific expenditure section."
      ]
    },
    {
      "cell_type": "markdown",
      "metadata": {
        "id": "yIyW669LQMeN",
        "colab_type": "text"
      },
      "source": [
        "## **Excess: Building's extra budget to unplanned events**\n",
        "\n",
        "Each building can decide on it's own policy of how much money should be in the account at all times in order.\n",
        "Excess can be set as a fixed amount (e.g. 2000) or a percent of the monthly expenses (e.g. 12%).\n",
        "The excess is managed by the **Building.excess attribute** and changed by using the **excess_update()** function."
      ]
    },
    {
      "cell_type": "markdown",
      "metadata": {
        "id": "9sG0iWSG1iyI",
        "colab_type": "text"
      },
      "source": [
        "##**Instantiation  & Basic Functions**"
      ]
    },
    {
      "cell_type": "code",
      "metadata": {
        "id": "s7WMcIGxT1EC",
        "colab_type": "code",
        "colab": {}
      },
      "source": [
        "class Building():\n",
        "  build_db = defaultdict(list)\n",
        "  newid = itertools.count(1000)     # An iterator for unique property ID\n",
        "\n",
        "  def __new__ (cls, city, street, house_num, app_num):\n",
        "      \"\"\"\n",
        "      The __new__ method is similar to the __init__ method, but if both exist, __new__ method executes first.\n",
        "      the __new__ method should check for duplicates in the dictionary prior to the instantiation phase\n",
        "      \"\"\"\n",
        "      for item in Building.build_db.items():\n",
        "         if item[1][0] == city and item[1][1] == street and item[1][2] == house_num and item[1][3] == app_num:\n",
        "             print(f'This address already exists - property {item[0]}')\n",
        "             return None\n",
        "         else:\n",
        "             continue\n",
        "      return object.__new__(cls)\n",
        "\n",
        "  def __init__ (self, city, street, house_num, app_num):\n",
        "      global build_db, newid\n",
        "      self.id = next(Building.newid)\n",
        "      self.city = city\n",
        "      self.street = street\n",
        "      self.house_num = house_num\n",
        "      self.app_num = app_num\n",
        "      self.expenses_dict = defaultdict(list)\n",
        "      self.yearly_expenses = 10000        #10000 is the default monthly fee for the building\n",
        "      self.yearly_excess = 0           # 0 is the default monthly fee for the building\n",
        "      self.f_yearly_excess = 0            # factor\\percent of yearly excess is set to 0\n",
        "      self.b_monthly_fee = int((self.yearly_expenses+self.yearly_excess)/12)        #1000 is the default monthly fee for the building\n",
        "      Building.build_db[self.id] = [self.city, self.street, self.house_num, self.app_num, self.b_monthly_fee]\n",
        "      self.apartments = [Apartment(self.id, i+1) for i in range(self.app_num)]\n",
        "       \n",
        "\n",
        "  def __str__ (self):\n",
        "      try:\n",
        "        building_string = ''\n",
        "        header = '{:^8}|{:14}|{:15}|{:5}|{:8}|{:10}\\n'.format('# Prop','City','Street','House','# Apart.', 'M.Fee(NIS)')\n",
        "        line = '-'*len(header)+'\\n'\n",
        "        building_line = '{:^8}|{:14}|{:15}|{:5}|{:^8}|{:^10}\\n'.format(self.id, self.city, self.street, self.house_num, self.app_num, self.b_monthly_fee)\n",
        "        return (header+line+building_line)\n",
        "      except TypeError:\n",
        "        return 'No Occurance'\n",
        "  \n",
        "  def remove_property(id):\n",
        "      Building.build_db.pop(id)\n",
        "  \n",
        "  def calc_yearly_expenses(self, year):\n",
        "      self.yearly_expenses = 0\n",
        "      for item in self.expenses_dict[year]:\n",
        "        self.yearly_expenses += item[1]\n",
        "\n",
        "  def set_yearly_expenses(self, year):\n",
        "      self.yearly_expenses = 0\n",
        "\n",
        "      # Entering pre-set expenditure costs\n",
        "      cleaning = int(input(\"Enter Annual cleaning costs: \"))\n",
        "      elevator_main = int(input(\"Enter Annual elevator maintanance costs: \"))\n",
        "      electricity = int(input(\"Enter Annual electricity costs: \"))\n",
        "      gardening = int(input(\"Enter Annual gardening costs: \"))\n",
        "      insurance = int(input(\"Enter Annual insurance costs: \"))\n",
        "      self.expenses_dict[year] = [['Cleaning', cleaning, 0], ['Elevator', elevator_main, 0], ['Electricity', electricity, 0], ['Gardening', gardening, 0], ['Insurance', insurance, 0]]\n",
        "      \n",
        "      # Optional: Entering additionl costs\n",
        "      user_answer1 = input('Is there any additional expenditure section? (Y/N)')\n",
        "      while user_answer1 in 'Yy':\n",
        "        exp_section_name = input(\"Enter expendituire section name: \")\n",
        "        exp_section_cost = int(input(f\"Enter {exp_section_name} annual cost: \"))\n",
        "        self.expenses_dict[year].append([exp_section_name, exp_section_cost, 0])\n",
        "        user_answer1 = input('Are there any additional expenditure section?')\n",
        "      \n",
        "      # Calculating overall costs without deafault excess\n",
        "      self.calc_yearly_expenses(year)\n",
        "      \n",
        "      # Calculating building excess\n",
        "      user_answer2 = input(f'\\nCurrent annual excess is set to {self.yearly_excess}.\\nDo you want to change it? (Y/N) ')\n",
        "      if user_answer2 in 'yY':\n",
        "        self.excess_update(year)\n",
        "      self.expenses_dict[year].append(['Excess', self.yearly_excess, 0]) \n",
        "      \n",
        "      # Calculate expenses including excess and consequently the monthly fee of the building + printout\n",
        "      self.calc_yearly_expenses(year)\n",
        "      self.b_monthly_fee = round(self.yearly_expenses/12)\n",
        "      Building.build_db[self.id][4] = self.b_monthly_fee\n",
        "      self.push_apartments_fee(year)\n",
        "      self.expenses_printout(year)\n",
        "      # send an email????\n",
        "  \n",
        "  def update_yearly_costs(self, year):\n",
        "      for i, section in enumerate(self.expenses_dict[year]):\n",
        "        print(f'{i:2}.{section[0]}')\n",
        "      cost_sec = input('Please select the section you want to update: ')\n",
        "      cost = input('Please enter the expense (make sure you have an invoice!): ')\n",
        "      self.expenses_dict[year][int(cost_sec)][2] += int(cost)\n",
        "          \n",
        "      \n",
        "  def push_apartments_fee(self, year):\n",
        "      for apart in self.apartments:\n",
        "        apart.a_monthly_fee = round(self.b_monthly_fee * apart.ratio)\n",
        "        apart.apartment_yearly_balance(year)\n",
        "        apart.init_payments_dict(year)\n",
        "\n",
        "\n",
        "  def excess_update(self, year):\n",
        "      excess = input('Enter new excess in absolute NIS or percent of annual costs:')\n",
        "      if '%' in excess:\n",
        "          self.f_yearly_excess = int(excess[:excess.index('%')])\n",
        "          self.yearly_excess = int((self.f_yearly_excess / 100) * self.yearly_expenses)\n",
        "      else:\n",
        "          self.yearly_excess = int(excess)\n",
        "\n",
        "  def change_Ratio(self, year):\n",
        "    print(\"------------------------------------------------------------------------------------------------------------------------\")\n",
        "    print(\"|ATTENTION!! You are going to change apartmens payment ratio. Make sure this is a beginning of a year or a new building!|\")\n",
        "    print(\"|Please prepare the list of ratios and enter it one-by-one.                                                             |\")\n",
        "    print(\"|make sure that sum of all ratios is 1. Otherwise an error will occur.                                                  |\")\n",
        "    print(\"------------------------------------------------------------------------------------------------------------------------\\n\")\n",
        "    user_input = input(\"Do you want to proceed? (Y/N) \")\n",
        "    while user_input in 'Yy':\n",
        "      new_ratio_list = []\n",
        "      for i, apart in enumerate(self.apartments, 1):\n",
        "        new_ratio = input(f\"Enter new ratio for apartment number {i}: \")\n",
        "        new_ratio_list.append(new_ratio)\n",
        "      s = sum(Decimal(i) for i in new_ratio_list)\n",
        "      if s != 1.0:\n",
        "        print('!!! Sum of ratios is different from 1. Please try again !!!')\n",
        "        user_input = input(\"Do you want to proceed? (Y/N) \")\n",
        "      else:\n",
        "        for i in range(len(self.apartments)):\n",
        "          self.apartments[i].ratio = float(new_ratio_list[i])\n",
        "          self.apartments[i].a_monthly_fee = round(self.apartments[i].ratio * self.b_monthly_fee)\n",
        "          self.apartments[i].payments_dict[year][0] = self.apartments[i].ratio\n",
        "          self.apartments[i].payments_dict[year][1] = self.apartments[i].a_monthly_fee\n",
        "        print('Ratios changed succesfully!')\n",
        "        break\n",
        "\n",
        "# -------------- BUILDING REPORTS ------------------ #\n",
        "  \n",
        "  def expenses_printout(self,year):\n",
        "    #Report 2: A table of all expenses of a building in the given year\n",
        "    my_str = ''\n",
        "    header1 = f'Property {self.id}: {year} Expense Sheet\\n'\n",
        "    header2 = f'{self.city} {self.street} {self.house_num}\\n'\n",
        "    my_str = header1 + header2\n",
        "    my_str = my_str + f'Annual expected Costs: {self.yearly_expenses} NIS\\n'\n",
        "    my_str = my_str + 'Exp. section | Estimated Costs | Actual Costs |  %  \\n'\n",
        "    my_str = my_str + '-'*50 + '\\n'\n",
        "    for item in self.expenses_dict[year]:\n",
        "      my_str = my_str + f'{item[0]:13}|{item[1]:^17}|{item[2]:^14}|{(item[2]/item[1]):.1%}\\n'\n",
        "    return my_str \n",
        "  \n",
        "  def print_all_buildings():\n",
        "    #Report 3: A table of all the managed buildings\n",
        "    build_string = ''\n",
        "    header = '{:^6}|{:^12}|{:^15}|{:7}\\n'.format('SN','City','Street','# house')\n",
        "    line = '-'*len(header)+'\\n'\n",
        "    for build in Building.build_db.items():\n",
        "        build_line = '{:^6}|{:12}|{:15}|{:^7}\\n'.format(build[0], build[1][0], build[1][1], build[1][2])\n",
        "        build_string += build_line\n",
        "    return (header + line + build_string)\n",
        "  \n",
        "  def apartments_in_build(self, year):\n",
        "    #Report 4: A table of all apartments in a given building in the given year including an up to date balance\n",
        "    apartment_string = ''\n",
        "    header = '{:9}|{:^6}|{:^8}|{:15}|{:^9}\\n'.format('# Apart', 'Ratio', 'M. Fee', 'Owner Name', 'Balance')\n",
        "    line = '-'*len(header)+'\\n'\n",
        "    for apart in self.apartments:\n",
        "      apart.apartment_yearly_balance(year)\n",
        "      apartment_line = '{:^9}|{:^6.1%}|{:^8}|{:15}|{:^9}\\n'.format(apart.num, apart.payments_dict[year][0], apart.payments_dict[year][1], apart.owner_name, apart.payments_dict[year][2])\n",
        "      apartment_string += apartment_line\n",
        "    return (header+line+apartment_string)\n",
        "\n",
        "  def apartment_owner_balance(owner, year):\n",
        "    #Report 5: A table of all the apartments of a given owner and its current balance\n",
        "    aob_string = ''\n",
        "    header = '{:^9}|{:^29}|{:^8}|{:^8}\\n'.format('Apart #','Address','Paid','Balance')\n",
        "    line = '-'*len(header)+'\\n'\n",
        "    for house in Building.build_db.items():\n",
        "      prop = eval(f'house'+str(house[0]))\n",
        "      for apart in prop.apartments:\n",
        "        if apart.owner == owner:\n",
        "          owner_apart_line = f'{apart.num:^9}|{house[1][0]:12} {house[1][1]:12} {house[1][2]:3}|{apart.payments_dict[year][3]:^8}|{apart.payments_dict[year][2]:^8}\\n'\n",
        "          aob_string += owner_apart_line\n",
        "          cur_name = apart.owner_name\n",
        "        else:\n",
        "          continue\n",
        "    con = f'Owner Report {cur_name}: {year}\\n'\n",
        "    return (con+header+line+aob_string)"
      ],
      "execution_count": null,
      "outputs": []
    },
    {
      "cell_type": "markdown",
      "metadata": {
        "id": "8Wt4X-mFNvyV",
        "colab_type": "text"
      },
      "source": [
        "##**Demonstration**"
      ]
    },
    {
      "cell_type": "code",
      "metadata": {
        "id": "yhvDCH7JWCa7",
        "colab_type": "code",
        "colab": {
          "base_uri": "https://localhost:8080/",
          "height": 156
        },
        "outputId": "657f08f5-e89e-4f4f-a232-882813fb390e"
      },
      "source": [
        "# Create 2 new buildings and print it\n",
        "house1000 = Building('Petah Tiqwa', 'Ehad Haam', '15', 8)\n",
        "house1001 = Building('Tel-Aviv', 'Dizingof', '32', 4)\n",
        "print(house1000)\n",
        "print(house1001)"
      ],
      "execution_count": null,
      "outputs": [
        {
          "output_type": "stream",
          "text": [
            " # Prop |City          |Street         |House|# Apart.|M.Fee(NIS)\n",
            "------------------------------------------------------------------\n",
            "  1000  |Petah Tiqwa   |Ehad Haam      |15   |   8    |   833    \n",
            "\n",
            " # Prop |City          |Street         |House|# Apart.|M.Fee(NIS)\n",
            "------------------------------------------------------------------\n",
            "  1001  |Tel-Aviv      |Dizingof       |32   |   4    |   833    \n",
            "\n"
          ],
          "name": "stdout"
        }
      ]
    },
    {
      "cell_type": "code",
      "metadata": {
        "id": "lodeiSB-gVIo",
        "colab_type": "code",
        "colab": {
          "base_uri": "https://localhost:8080/",
          "height": 243
        },
        "outputId": "a9e4f1c3-a45e-41f7-cdd3-06efcf311a52"
      },
      "source": [
        "# Set yearly expense for property 1000\n",
        "house1000.set_yearly_expenses(2020)"
      ],
      "execution_count": null,
      "outputs": [
        {
          "output_type": "stream",
          "text": [
            "Enter Annual cleaning costs: 2000\n",
            "Enter Annual elevator maintanance costs: 5000\n",
            "Enter Annual electricity costs: 2500\n",
            "Enter Annual gardening costs: 3500\n",
            "Enter Annual insurance costs: 4200\n",
            "Is there any additional expenditure section? (Y/N)y\n",
            "Enter expendituire section name: Solar\n",
            "Enter Solar annual cost: 1500\n",
            "Are there any additional expenditure section?n\n",
            "\n",
            "Current annual excess is set to 0.\n",
            "Do you want to change it? (Y/N) y\n",
            "Enter new excess in absolute NIS or percent of annual costs:8%\n"
          ],
          "name": "stdout"
        }
      ]
    },
    {
      "cell_type": "code",
      "metadata": {
        "id": "S6Zd4mzzKodB",
        "colab_type": "code",
        "colab": {
          "base_uri": "https://localhost:8080/",
          "height": 52
        },
        "outputId": "f76dd654-037b-418d-f615-7cf83d2c954b"
      },
      "source": [
        "# Check the length & the content of the building database. each building is a tuple.\n",
        "print('There are currently',len(Building.build_db.items()),'managed properties')\n",
        "Building.build_db.items()"
      ],
      "execution_count": null,
      "outputs": [
        {
          "output_type": "stream",
          "text": [
            "There are currently 2 managed properties\n"
          ],
          "name": "stdout"
        },
        {
          "output_type": "execute_result",
          "data": {
            "text/plain": [
              "dict_items([(1000, ['Petah Tiqwa', 'Ehad Haam', '15', 8, 1683]), (1001, ['Tel-Aviv', 'Dizingof', '32', 4, 833])])"
            ]
          },
          "metadata": {
            "tags": []
          },
          "execution_count": 15
        }
      ]
    },
    {
      "cell_type": "code",
      "metadata": {
        "id": "rGDkwR2TNy7F",
        "colab_type": "code",
        "colab": {
          "base_uri": "https://localhost:8080/",
          "height": 52
        },
        "outputId": "5364574c-9209-4e88-dca3-8180475b6c4f"
      },
      "source": [
        "# A Try to build an additional building in the same address fails\n",
        "house1002 = Building('Tel-Aviv', 'Dizingof', '32', 4)\n",
        "print('There are currently',len(Building.build_db.items()),'managed properties')"
      ],
      "execution_count": null,
      "outputs": [
        {
          "output_type": "stream",
          "text": [
            "This address already exists - property 1001\n",
            "There are currently 2 managed properties\n"
          ],
          "name": "stdout"
        }
      ]
    },
    {
      "cell_type": "code",
      "metadata": {
        "id": "USB_olSbFbd4",
        "colab_type": "code",
        "colab": {
          "base_uri": "https://localhost:8080/",
          "height": 87
        },
        "outputId": "3c784b01-107b-4553-a10f-67c1ed59066d"
      },
      "source": [
        "# attach owners to some apartment in building #1 (# prop 1000). \n",
        "house1000.apartments[0].add_owner('012345678')\n",
        "house1000.apartments[1].add_owner('067983451')\n",
        "house1000.apartments[2].add_owner('012345678')\n",
        "house1001.apartments[3].add_owner('067983451')\n",
        "\n",
        "print(house1000.apartments[0])"
      ],
      "execution_count": null,
      "outputs": [
        {
          "output_type": "stream",
          "text": [
            "# Apart  |Ratio | M. Fee |Owner Name     | Balance \n",
            "----------------------------------------------------\n",
            " 1000 / 1|12.5% |  210   |Carmit Assael  |  2520   \n",
            "\n"
          ],
          "name": "stdout"
        }
      ]
    },
    {
      "cell_type": "code",
      "metadata": {
        "id": "RqxIctxQdPJy",
        "colab_type": "code",
        "colab": {
          "base_uri": "https://localhost:8080/",
          "height": 173
        },
        "outputId": "5675219c-b72c-49ad-dc3d-f3fce5d88442"
      },
      "source": [
        "house1000.update_yearly_costs(2020)"
      ],
      "execution_count": null,
      "outputs": [
        {
          "output_type": "stream",
          "text": [
            " 0.Cleaning\n",
            " 1.Elevator\n",
            " 2.Electricity\n",
            " 3.Gardening\n",
            " 4.Insurance\n",
            " 5.Solar\n",
            " 6.Excess\n",
            "Please select the section you want to update: 0\n",
            "Please enter the expense (make sure you have an invoice!): 1200\n"
          ],
          "name": "stdout"
        }
      ]
    },
    {
      "cell_type": "markdown",
      "metadata": {
        "id": "96QnX2m8Wbij",
        "colab_type": "text"
      },
      "source": [
        "##**Report 2: Property Expenses Sheet**"
      ]
    },
    {
      "cell_type": "code",
      "metadata": {
        "id": "_HgG0JQDosj9",
        "colab_type": "code",
        "colab": {
          "base_uri": "https://localhost:8080/",
          "height": 260
        },
        "outputId": "b79c4a62-933e-42a4-bd7f-fad094ff0288"
      },
      "source": [
        "print(house1000.expenses_printout(2020))\n",
        "\n",
        "send_HTML_report(house1000.expenses_printout(2020),'pelanat1207@gmail.com','Anat','Expenses Sheet')"
      ],
      "execution_count": null,
      "outputs": [
        {
          "output_type": "stream",
          "text": [
            "Property 1000: 2020 Expense Sheet\n",
            "Petah Tiqwa Ehad Haam 15\n",
            "Annual expected Costs: 20196 NIS\n",
            "Exp. section | Estimated Costs | Actual Costs |  %  \n",
            "--------------------------------------------------\n",
            "Cleaning     |      2000       |     1200     |60.0%\n",
            "Elevator     |      5000       |      0       |0.0%\n",
            "Electricity  |      2500       |      0       |0.0%\n",
            "Gardening    |      3500       |      0       |0.0%\n",
            "Insurance    |      4200       |      0       |0.0%\n",
            "Solar        |      1500       |      0       |0.0%\n",
            "Excess       |      1496       |      0       |0.0%\n",
            "\n",
            "Type your password and press enter: ··········\n"
          ],
          "name": "stdout"
        }
      ]
    },
    {
      "cell_type": "markdown",
      "metadata": {
        "id": "-ICpnE5arggH",
        "colab_type": "text"
      },
      "source": [
        "##**Report 3: Assets List**"
      ]
    },
    {
      "cell_type": "code",
      "metadata": {
        "id": "EKCYYIJVroSU",
        "colab_type": "code",
        "colab": {
          "base_uri": "https://localhost:8080/",
          "height": 121
        },
        "outputId": "c37ea21b-23b9-499e-e895-e3a7ba179626"
      },
      "source": [
        "print(Building.print_all_buildings())\n",
        "send_HTML_report(Building.print_all_buildings(),'pelanat1207@gmail.com','Anat','Assets List')"
      ],
      "execution_count": null,
      "outputs": [
        {
          "output_type": "stream",
          "text": [
            "  SN  |    City    |    Street     |# house\n",
            "--------------------------------------------\n",
            " 1000 |Petah Tiqwa |Ehad Haam      |  15   \n",
            " 1001 |Tel-Aviv    |Dizingof       |  32   \n",
            "\n",
            "Type your password and press enter: ··········\n"
          ],
          "name": "stdout"
        }
      ]
    },
    {
      "cell_type": "markdown",
      "metadata": {
        "id": "8nUF1AJWj6nu",
        "colab_type": "text"
      },
      "source": [
        "##**Report 4: Apartments List per Building (inc. balance)**"
      ]
    },
    {
      "cell_type": "code",
      "metadata": {
        "id": "ZohSxtYDK8lb",
        "colab_type": "code",
        "colab": {
          "base_uri": "https://localhost:8080/",
          "height": 208
        },
        "outputId": "5ef418a3-d198-45e6-e61a-e37eadb6338d"
      },
      "source": [
        "print(house1000.apartments_in_build(2020))"
      ],
      "execution_count": null,
      "outputs": [
        {
          "output_type": "stream",
          "text": [
            "# Apart  |Ratio | M. Fee |Owner Name     | Balance \n",
            "----------------------------------------------------\n",
            " 1000 / 1|12.5% |  210   |Carmit Assael  |  2520   \n",
            " 1000 / 2|12.5% |  210   |Anat Peled     |  2520   \n",
            " 1000 / 3|12.5% |  210   |Carmit Assael  |  2520   \n",
            " 1000 / 4|12.5% |  210   |               |  2520   \n",
            " 1000 / 5|12.5% |  210   |               |  2520   \n",
            " 1000 / 6|12.5% |  210   |               |  2520   \n",
            " 1000 / 7|12.5% |  210   |               |  2520   \n",
            " 1000 / 8|12.5% |  210   |               |  2520   \n",
            "\n"
          ],
          "name": "stdout"
        }
      ]
    },
    {
      "cell_type": "code",
      "metadata": {
        "id": "iU6vvLhhIeXt",
        "colab_type": "code",
        "colab": {
          "base_uri": "https://localhost:8080/",
          "height": 35
        },
        "outputId": "a60977d8-fd45-4d58-ced3-596a6711d037"
      },
      "source": [
        "house1000.apartments[0].get_payment(2020)"
      ],
      "execution_count": null,
      "outputs": [
        {
          "output_type": "stream",
          "text": [
            "Enter the sum of payment recieved: 128\n"
          ],
          "name": "stdout"
        }
      ]
    },
    {
      "cell_type": "code",
      "metadata": {
        "id": "yGYLrcpvlLc_",
        "colab_type": "code",
        "colab": {
          "base_uri": "https://localhost:8080/",
          "height": 225
        },
        "outputId": "f3e685f7-a3f8-4475-a84c-337d7bdbef51"
      },
      "source": [
        "print(house1000.apartments_in_build(2020))\n",
        "send_HTML_report(house1000.apartments_in_build(2020),'pelanat1207@gmail.com','Anat','Apartments List')"
      ],
      "execution_count": null,
      "outputs": [
        {
          "output_type": "stream",
          "text": [
            "# Apart  |Ratio | M. Fee |Owner Name     | Balance \n",
            "----------------------------------------------------\n",
            " 1000 / 1|12.5% |  210   |Carmit Assael  |  2392   \n",
            " 1000 / 2|12.5% |  210   |Anat Peled     |  2520   \n",
            " 1000 / 3|12.5% |  210   |Carmit Assael  |  2520   \n",
            " 1000 / 4|12.5% |  210   |               |  2520   \n",
            " 1000 / 5|12.5% |  210   |               |  2520   \n",
            " 1000 / 6|12.5% |  210   |               |  2520   \n",
            " 1000 / 7|12.5% |  210   |               |  2520   \n",
            " 1000 / 8|12.5% |  210   |               |  2520   \n",
            "\n",
            "Type your password and press enter: ··········\n"
          ],
          "name": "stdout"
        }
      ]
    },
    {
      "cell_type": "code",
      "metadata": {
        "id": "eBpfKzILi31A",
        "colab_type": "code",
        "colab": {
          "base_uri": "https://localhost:8080/",
          "height": 35
        },
        "outputId": "c2d4d022-2a87-471e-937e-b406bafc6009"
      },
      "source": [
        "print(house1000.apartments[0].payments_dict.items())"
      ],
      "execution_count": null,
      "outputs": [
        {
          "output_type": "stream",
          "text": [
            "dict_items([(2020, [0.125, 210, 2392, 128])])\n"
          ],
          "name": "stdout"
        }
      ]
    },
    {
      "cell_type": "code",
      "metadata": {
        "id": "uLVnjb38kof8",
        "colab_type": "code",
        "colab": {
          "base_uri": "https://localhost:8080/",
          "height": 347
        },
        "outputId": "3727cc95-6dff-437a-dd7e-bd713b4779e0"
      },
      "source": [
        "house1001.change_Ratio(2020)\n",
        "print(house1001.apartments_in_build(2020))"
      ],
      "execution_count": null,
      "outputs": [
        {
          "output_type": "stream",
          "text": [
            "------------------------------------------------------------------------------------------------------------------------\n",
            "|ATTENTION!! You are going to change apartmens payment ratio. Make sure this is a beginning of a year or a new building!|\n",
            "|Please prepare the list of ratios and enter it one-by-one.                                                             |\n",
            "|make sure that sum of all ratios is 1. Otherwise an error will occur.                                                  |\n",
            "------------------------------------------------------------------------------------------------------------------------\n",
            "\n",
            "Do you want to proceed? (Y/N) y\n",
            "Enter new ratio for apartment number 1: 0.3\n",
            "Enter new ratio for apartment number 2: 0.2\n",
            "Enter new ratio for apartment number 3: 0.1\n",
            "Enter new ratio for apartment number 4: 0.4\n",
            "Ratios changed succesfully!\n",
            "# Apart  |Ratio | M. Fee |Owner Name     | Balance \n",
            "----------------------------------------------------\n",
            " 1001 / 1|30.0% |  250   |               |  3000   \n",
            " 1001 / 2|20.0% |  167   |               |  2004   \n",
            " 1001 / 3|10.0% |   83   |               |   996   \n",
            " 1001 / 4|40.0% |  333   |Anat Peled     |  3996   \n",
            "\n"
          ],
          "name": "stdout"
        }
      ]
    },
    {
      "cell_type": "markdown",
      "metadata": {
        "id": "Qk9WqKwRmgkE",
        "colab_type": "text"
      },
      "source": [
        "##**Report 5: Owner balance sheet**"
      ]
    },
    {
      "cell_type": "code",
      "metadata": {
        "id": "G--FcMpgtPj3",
        "colab_type": "code",
        "colab": {
          "base_uri": "https://localhost:8080/",
          "height": 139
        },
        "outputId": "ef49e04b-13de-4d58-bf9e-452b1edb0ca6"
      },
      "source": [
        "print(Building.apartment_owner_balance('067983451', 2020))\n",
        "send_HTML_report(Building.apartment_owner_balance('067983451', 2020),'pelanat1207@gmail.com','Anat','Owner balance sheet')"
      ],
      "execution_count": null,
      "outputs": [
        {
          "output_type": "stream",
          "text": [
            "Owner Report Anat Peled: 2020\n",
            " Apart # |           Address           |  Paid  |Balance \n",
            "----------------------------------------------------------\n",
            " 1000 / 2|Petah Tiqwa  Ehad Haam    15 |   0    |  2520  \n",
            " 1001 / 4|Tel-Aviv     Dizingof     32 |   0    |  3996  \n",
            "\n",
            "Type your password and press enter: ··········\n"
          ],
          "name": "stdout"
        }
      ]
    },
    {
      "cell_type": "code",
      "metadata": {
        "id": "XQbuDrefeXpZ",
        "colab_type": "code",
        "colab": {
          "base_uri": "https://localhost:8080/",
          "height": 139
        },
        "outputId": "3b19e998-c65f-4a8c-ebbc-64a831e0aa0a"
      },
      "source": [
        "print(Building.apartment_owner_balance('012345678', 2020))\n",
        "send_HTML_report(Building.apartment_owner_balance('012345678', 2020),'pelanat1207@gmail.com','Anat','Owner balance sheet')"
      ],
      "execution_count": null,
      "outputs": [
        {
          "output_type": "stream",
          "text": [
            "Owner Report Carmit Assael: 2020\n",
            " Apart # |           Address           |  Paid  |Balance \n",
            "----------------------------------------------------------\n",
            " 1000 / 1|Petah Tiqwa  Ehad Haam    15 |  128   |  2392  \n",
            " 1000 / 3|Petah Tiqwa  Ehad Haam    15 |   0    |  2520  \n",
            "\n",
            "Type your password and press enter: ··········\n"
          ],
          "name": "stdout"
        }
      ]
    },
    {
      "cell_type": "markdown",
      "metadata": {
        "id": "26sH-1X-mWXn",
        "colab_type": "text"
      },
      "source": [
        "#**Summary**\n",
        "---\n",
        "\n",
        "\n",
        "This project is the first of five assignments required in Data Science Course of Naya College and submitted to Dror Geva.\n",
        "\n",
        "The project demonstras the use of a multi-class application and its complexity. \n",
        "\n",
        "This application is setting the basis towards a more advanced house managment application, that can be further devoloped in mulitple directions, including, for example:\n",
        "1. User Interface approach (instead of interactive inputs)\n",
        "2. Graphical add-in for finance variables and reports\n",
        "3. Pre-scheduled reports\n",
        "\n"
      ]
    },
    {
      "cell_type": "markdown",
      "metadata": {
        "id": "7Sv6CwazvKIv",
        "colab_type": "text"
      },
      "source": [
        "*All rights reserved to Anat Peled, July 2020*"
      ]
    }
  ]
}